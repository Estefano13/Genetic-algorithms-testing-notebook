{
 "cells": [
  {
   "cell_type": "code",
   "execution_count": 47,
   "metadata": {},
   "outputs": [],
   "source": [
    "import numpy as np\n",
    "import matplotlib.pyplot as plt\n",
    "from scipy.integrate import odeint\n",
    "from scipy import integrate\n",
    "import pandas as pd\n",
    "from scipy.optimize import minimize, rosen, rosen_der\n",
    "import time"
   ]
  },
  {
   "cell_type": "code",
   "execution_count": 3,
   "metadata": {},
   "outputs": [],
   "source": [
    "#Fitness function\n",
    "\n",
    "def fitness (password, test_word):\n",
    "\n",
    "    if (len(test_word) != len(password)):\n",
    "        print(\"taille incompatible\")\n",
    "        return\n",
    "    else:\n",
    "        score = 0\n",
    "        i = 0\n",
    "        while (i < len(password)):\n",
    "            if (password[i] == test_word[i]):\n",
    "                score+=1\n",
    "            i+=1\n",
    "        return score * 100 / len(password)"
   ]
  },
  {
   "cell_type": "code",
   "execution_count": 5,
   "metadata": {},
   "outputs": [],
   "source": [
    "#Population generation\n",
    "\n",
    "import random\n",
    "\n",
    "def generateAWord (length):\n",
    "    i = 0\n",
    "    result = \"\"\n",
    "    while i < length:\n",
    "        letter = chr(97 + int(26 * random.random()))\n",
    "        result += letter\n",
    "        i +=1\n",
    "    return result\n",
    "\n",
    "def generateFirstPopulation(sizePopulation, password):\n",
    "    population = []\n",
    "    i = 0\n",
    "    while i < sizePopulation:\n",
    "        population.append(generateAWord(len(password)))\n",
    "        i+=1\n",
    "    return population"
   ]
  },
  {
   "cell_type": "code",
   "execution_count": 13,
   "metadata": {},
   "outputs": [],
   "source": [
    "#Breeder selection\n",
    "\n",
    "import operator\n",
    "import random\n",
    "\n",
    "def computePerfPopulation(population, password):\n",
    "    populationPerf = {}\n",
    "    for individual in population:\n",
    "        populationPerf[individual] = fitness(password, individual)\n",
    "    return sorted(populationPerf.items(), key = operator.itemgetter(1), reverse=True)\n",
    "\n",
    "def selectFromPopulation(populationSorted, best_sample, lucky_few):\n",
    "    nextGeneration = []\n",
    "    for i in range(best_sample):\n",
    "        nextGeneration.append(populationSorted[i][0])\n",
    "    for i in range(lucky_few):\n",
    "        nextGeneration.append(random.choice(populationSorted)[0])\n",
    "    random.shuffle(nextGeneration)\n",
    "    return nextGeneration"
   ]
  },
  {
   "cell_type": "code",
   "execution_count": 32,
   "metadata": {},
   "outputs": [],
   "source": [
    "#Breed\n",
    "\n",
    "import random\n",
    "\n",
    "def createChild(individual1, individual2):\n",
    "    child = \"\"\n",
    "    for i in range(len(individual1)):\n",
    "        if (int(100 * random.random()) < 50):\n",
    "            child += individual1[i]\n",
    "        else:\n",
    "            child += individual2[i]\n",
    "    return child\n",
    "\n",
    "def createChildren(breeders, number_of_child):\n",
    "    nextPopulation = []\n",
    "    for i in range(int(len(breeders)/2)):\n",
    "        for j in range(number_of_child):\n",
    "            nextPopulation.append(createChild(breeders[i], breeders[len(breeders) -1 -i]))\n",
    "    return nextPopulation"
   ]
  },
  {
   "cell_type": "code",
   "execution_count": 33,
   "metadata": {},
   "outputs": [],
   "source": [
    "#Mutation\n",
    "\n",
    "import random\n",
    "\n",
    "def mutateWord(word):\n",
    "    index_modification = int(random.random() * len(word))\n",
    "    if (index_modification == 0):\n",
    "        word = chr(97 + int(26 * random.random())) + word[1:]\n",
    "    else:\n",
    "        word = word[:index_modification] + chr(97 + int(26 * random.random())) + word[index_modification+1:]\n",
    "    return word\n",
    "\n",
    "def mutatePopulation(population, chance_of_mutation):\n",
    "    for i in range(len(population)):\n",
    "        if random.random() * 100 < chance_of_mutation:\n",
    "            population[i] = mutateWord(population[i])\n",
    "    return population"
   ]
  },
  {
   "cell_type": "code",
   "execution_count": 34,
   "metadata": {},
   "outputs": [],
   "source": [
    "def nextGeneration (firstGeneration, password, best_sample, lucky_few, number_of_child, chance_of_mutation):\n",
    "    populationSorted = computePerfPopulation(firstGeneration, password)\n",
    "    nextBreeders = selectFromPopulation(populationSorted, best_sample, lucky_few)\n",
    "    nextPopulation = createChildren(nextBreeders, number_of_child)\n",
    "    nextGeneration = mutatePopulation(nextPopulation, chance_of_mutation)\n",
    "    return nextGeneration\n",
    "\n",
    "def multipleGeneration(number_of_generation, password, size_population, best_sample, lucky_few, number_of_child, chance_of_mutation):\n",
    "    historic = []\n",
    "    historic.append(generateFirstPopulation(size_population, password))\n",
    "    for i in range (number_of_generation):\n",
    "        historic.append(nextGeneration(historic[i], password, best_sample, lucky_few, number_of_child, chance_of_mutation))\n",
    "    return historic"
   ]
  },
  {
   "cell_type": "code",
   "execution_count": 35,
   "metadata": {},
   "outputs": [],
   "source": [
    "def printSimpleResult(historic, password, number_of_generation): #bestSolution in historic. Caution not the last\n",
    "    result = getListBestIndividualFromHistorique(historic, password)[number_of_generation-1]\n",
    "    print (\"solution: \\\"\" + result[0] + \"\\\" de fitness: \" + str(result[1]))"
   ]
  },
  {
   "cell_type": "code",
   "execution_count": 38,
   "metadata": {},
   "outputs": [],
   "source": [
    "def getBestIndividualFromPopulation (population, password):\n",
    "    return computePerfPopulation(population, password)[0]\n",
    "\n",
    "def getListBestIndividualFromHistorique (historic, password):\n",
    "    bestIndividuals = []\n",
    "    for population in historic:\n",
    "        bestIndividuals.append(getBestIndividualFromPopulation(population, password))\n",
    "    return bestIndividuals"
   ]
  },
  {
   "cell_type": "code",
   "execution_count": 42,
   "metadata": {},
   "outputs": [],
   "source": [
    "def evolutionBestFitness(historic, password):\n",
    "    plt.axis([0,len(historic),0,105])\n",
    "    plt.title(password)\n",
    "\n",
    "    evolutionFitness = []\n",
    "    for population in historic:\n",
    "        evolutionFitness.append(getBestIndividualFromPopulation(population, password)[1])\n",
    "    plt.plot(evolutionFitness)\n",
    "    plt.ylabel('fitness best individual')\n",
    "    plt.xlabel('generation')\n",
    "    plt.show()\n",
    "\n",
    "def evolutionAverageFitness(historic, password, size_population):\n",
    "    plt.axis([0,len(historic),0,105])\n",
    "    plt.title(password)\n",
    "\n",
    "    evolutionFitness = []\n",
    "    for population in historic:\n",
    "        populationPerf = computePerfPopulation(population, password)\n",
    "        averageFitness = 0\n",
    "        for individual in populationPerf:\n",
    "            averageFitness += individual[1]\n",
    "        evolutionFitness.append(averageFitness/size_population)\n",
    "    plt.plot(evolutionFitness)\n",
    "    plt.ylabel('Average fitness')\n",
    "    plt.xlabel('generation')\n",
    "    plt.show()"
   ]
  },
  {
   "cell_type": "code",
   "execution_count": 63,
   "metadata": {},
   "outputs": [
    {
     "data": {
      "text/plain": [
       "10000.0"
      ]
     },
     "execution_count": 63,
     "metadata": {},
     "output_type": "execute_result"
    }
   ],
   "source": [
    "(best_sample + lucky_few) / 2 * number_of_child"
   ]
  },
  {
   "cell_type": "code",
   "execution_count": 64,
   "metadata": {},
   "outputs": [],
   "source": [
    "password = \"banananononote\"\n",
    "size_population = 10000\n",
    "best_sample = 200\n",
    "lucky_few = 200\n",
    "number_of_child = 50\n",
    "number_of_generation = 50\n",
    "chance_of_mutation = 5\n",
    "\n"
   ]
  },
  {
   "cell_type": "code",
   "execution_count": 65,
   "metadata": {},
   "outputs": [
    {
     "name": "stdout",
     "output_type": "stream",
     "text": [
      "solution: \"banananononote\" de fitness: 100.0\n"
     ]
    },
    {
     "data": {
      "image/png": "[encoded data removed]",
      "text/plain": [
       "<Figure size 432x288 with 1 Axes>"
      ]
     },
     "metadata": {},
     "output_type": "display_data"
    },
    {
     "data": {
      "image/png": "[encoded data removed]",
      "text/plain": [
       "<Figure size 432x288 with 1 Axes>"
      ]
     },
     "metadata": {},
     "output_type": "display_data"
    },
    {
     "name": "stdout",
     "output_type": "stream",
     "text": [
      "7.817563533782959\n"
     ]
    }
   ],
   "source": [
    "temps1 = time.time()\n",
    "\n",
    "if ((best_sample + lucky_few) / 2 * number_of_child != size_population):\n",
    "    print (\"population size not stable\")\n",
    "else:\n",
    "    historic = multipleGeneration(number_of_generation, password, size_population, best_sample, lucky_few, number_of_child, chance_of_mutation)\n",
    "\n",
    "    printSimpleResult(historic, password, number_of_generation)\n",
    "\n",
    "    evolutionBestFitness(historic, password)\n",
    "    evolutionAverageFitness(historic, password, size_population)\n",
    "\n",
    "print (time.time() - temps1)"
   ]
  },
  {
   "cell_type": "code",
   "execution_count": null,
   "metadata": {},
   "outputs": [],
   "source": []
  }
 ],
 "metadata": {
  "kernelspec": {
   "display_name": "Python 3",
   "language": "python",
   "name": "python3"
  },
  "language_info": {
   "codemirror_mode": {
    "name": "ipython",
    "version": 3
   },
   "file_extension": ".py",
   "mimetype": "text/x-python",
   "name": "python",
   "nbconvert_exporter": "python",
   "pygments_lexer": "ipython3",
   "version": "3.6.5"
  }
 },
 "nbformat": 4,
 "nbformat_minor": 2
}
